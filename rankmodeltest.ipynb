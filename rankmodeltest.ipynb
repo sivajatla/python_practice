{
  "nbformat": 4,
  "nbformat_minor": 0,
  "metadata": {
    "colab": {
      "name": "rankmodeltest.ipynb",
      "provenance": [],
      "authorship_tag": "ABX9TyP9yaar3wDvsaFaUmQxFJVH",
      "include_colab_link": true
    },
    "kernelspec": {
      "name": "python3",
      "display_name": "Python 3"
    }
  },
  "cells": [
    {
      "cell_type": "markdown",
      "metadata": {
        "id": "view-in-github",
        "colab_type": "text"
      },
      "source": [
        "<a href=\"https://colab.research.google.com/github/sivajatla/python_practice/blob/master/rankmodeltest.ipynb\" target=\"_parent\"><img src=\"https://colab.research.google.com/assets/colab-badge.svg\" alt=\"Open In Colab\"/></a>"
      ]
    },
    {
      "cell_type": "code",
      "metadata": {
        "id": "y7Uoxl6te0L3",
        "colab_type": "code",
        "colab": {
          "base_uri": "https://localhost:8080/",
          "height": 68
        },
        "outputId": "3b79db32-ebe1-498f-d2fb-1afd9a1f425d"
      },
      "source": [
        "import pandas as pd\n",
        "import pickle\n",
        "from google.colab import drive\n",
        "from pathlib import Path\n",
        "drive.mount('/content/drive')\n",
        "%cd /content/drive/My\\ Drive\n",
        "testData=Path('test_data.csv')\n",
        "X_test2 = pd.read_csv(testData,sep=',')\n",
        "filename = 'finalized_model.sav'\n",
        "loaded_model = pickle.load(open(filename, 'rb'))\n",
        "#result = loaded_model.score(X_test, y_test)\n",
        "#print(result)\n",
        "print(loaded_model.predict(X_test2))"
      ],
      "execution_count": 3,
      "outputs": [
        {
          "output_type": "stream",
          "text": [
            "Drive already mounted at /content/drive; to attempt to forcibly remount, call drive.mount(\"/content/drive\", force_remount=True).\n",
            "/content/drive/My Drive\n",
            "[1.10363051 2.20323989]\n"
          ],
          "name": "stdout"
        }
      ]
    }
  ]
}