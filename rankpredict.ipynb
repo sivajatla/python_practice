{
  "nbformat": 4,
  "nbformat_minor": 0,
  "metadata": {
    "colab": {
      "name": "rankpredict.ipynb",
      "provenance": [],
      "collapsed_sections": [],
      "include_colab_link": true
    },
    "kernelspec": {
      "name": "python3",
      "display_name": "Python 3"
    }
  },
  "cells": [
    {
      "cell_type": "markdown",
      "metadata": {
        "id": "view-in-github",
        "colab_type": "text"
      },
      "source": [
        "<a href=\"https://colab.research.google.com/github/sivajatla/python_practice/blob/master/rankpredict.ipynb\" target=\"_parent\"><img src=\"https://colab.research.google.com/assets/colab-badge.svg\" alt=\"Open In Colab\"/></a>"
      ]
    },
    {
      "cell_type": "code",
      "metadata": {
        "id": "GoNfT_HV5NCC",
        "colab_type": "code",
        "outputId": "6267bfb7-12a7-4405-d009-a605e69c67be",
        "colab": {
          "base_uri": "https://localhost:8080/",
          "height": 1000
        }
      },
      "source": [
        "import pandas as pd\n",
        "from google.colab import drive\n",
        "from pathlib import Path\n",
        "drive.mount('/content/drive')\n",
        "%cd /content/drive/My\\ Drive\n",
        "p = Path('marksdata.csv')\n",
        "%cd /content/drive/My\\ Drive\n",
        "df = pd.read_csv(p,sep=',')\n",
        "df.head()\n",
        "X=df[['m','p','c']]\n",
        "#print(X)\n",
        "Y=df['r']\n",
        "from sklearn.model_selection import train_test_split\n",
        "X_train, X_test, y_train, y_test = train_test_split(X,Y,test_size=0.2,random_state=0)\n",
        "print(\"------------X-TRAIN DATA---------------\")\n",
        "print(X_train)\n",
        "print(\"------------X-TEST DATA--------------\")\n",
        "print(X_test)\n",
        "print(\"------------Y-TRAIN DATA---------------\")\n",
        "print(y_train)\n",
        "print(\"------------Y-TEST DATA---------------\")\n",
        "print(y_test)\n",
        "from sklearn.linear_model import LinearRegression\n",
        "clf = LinearRegression()\n",
        "clf.fit(X_train, y_train)\n",
        "print(\"------------Y-PREDICT VALUE---------------\")\n",
        "y_pred=clf.predict(X_test)\n",
        "#print(y_pred)\n",
        "print(\"------------ACCURACY VALUE---------------\")\n",
        "clf.score(X_test, y_test)\n",
        "dfComp = pd.DataFrame({\"Actual\": y_test, \"Predicted\": y_pred})\n",
        "print(dfComp)"
      ],
      "execution_count": 0,
      "outputs": [
        {
          "output_type": "stream",
          "text": [
            "Drive already mounted at /content/drive; to attempt to forcibly remount, call drive.mount(\"/content/drive\", force_remount=True).\n",
            "/content/drive/My Drive\n",
            "/content/drive/My Drive\n",
            "------------X-TRAIN DATA---------------\n",
            "       m    p    c\n",
            "116  100  100  100\n",
            "66   100  100  100\n",
            "135  100  100  100\n",
            "12    90   90   90\n",
            "191  100  100  100\n",
            "..   ...  ...  ...\n",
            "323  100  100  100\n",
            "192  100  100  100\n",
            "117  100  100  100\n",
            "47   100  100  100\n",
            "172  100  100  100\n",
            "\n",
            "[272 rows x 3 columns]\n",
            "------------X-TEST DATA--------------\n",
            "       m    p    c\n",
            "74   100  100  100\n",
            "101  100  100  100\n",
            "56   100  100  100\n",
            "15    90   90   90\n",
            "161  100  100  100\n",
            "..   ...  ...  ...\n",
            "76   100  100  100\n",
            "311  100  100  100\n",
            "153  100  100  100\n",
            "22    90   90   90\n",
            "228  100  100  100\n",
            "\n",
            "[69 rows x 3 columns]\n",
            "------------Y-TRAIN DATA---------------\n",
            "116    1\n",
            "66     1\n",
            "135    1\n",
            "12     2\n",
            "191    1\n",
            "      ..\n",
            "323    1\n",
            "192    1\n",
            "117    1\n",
            "47     1\n",
            "172    1\n",
            "Name: r, Length: 272, dtype: int64\n",
            "------------Y-TEST DATA---------------\n",
            "74     1\n",
            "101    1\n",
            "56     1\n",
            "15     2\n",
            "161    1\n",
            "      ..\n",
            "76     1\n",
            "311    1\n",
            "153    1\n",
            "22     2\n",
            "228    1\n",
            "Name: r, Length: 69, dtype: int64\n",
            "------------Y-PREDICT VALUE---------------\n",
            "------------ACCURACY VALUE---------------\n",
            "     Actual  Predicted\n",
            "74        1   1.004021\n",
            "101       1   1.004021\n",
            "56        1   1.004021\n",
            "15        2   2.003045\n",
            "161       1   1.004021\n",
            "..      ...        ...\n",
            "76        1   1.004021\n",
            "311       1   1.004021\n",
            "153       1   1.004021\n",
            "22        2   2.003045\n",
            "228       1   1.004021\n",
            "\n",
            "[69 rows x 2 columns]\n"
          ],
          "name": "stdout"
        }
      ]
    },
    {
      "cell_type": "code",
      "metadata": {
        "id": "448hpTd0ty2R",
        "colab_type": "code",
        "outputId": "531b2561-5320-4340-dee5-866cb3892365",
        "colab": {
          "base_uri": "https://localhost:8080/",
          "height": 34
        }
      },
      "source": [
        "from google.colab import drive\n",
        "from pathlib import Path\n",
        "drive.mount('/content/drive')"
      ],
      "execution_count": 0,
      "outputs": [
        {
          "output_type": "stream",
          "text": [
            "Drive already mounted at /content/drive; to attempt to forcibly remount, call drive.mount(\"/content/drive\", force_remount=True).\n"
          ],
          "name": "stdout"
        }
      ]
    }
  ]
}