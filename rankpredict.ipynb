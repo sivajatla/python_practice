{
  "nbformat": 4,
  "nbformat_minor": 0,
  "metadata": {
    "colab": {
      "name": "rankpredict.ipynb",
      "provenance": [],
      "collapsed_sections": [],
      "include_colab_link": true
    },
    "kernelspec": {
      "name": "python3",
      "display_name": "Python 3"
    }
  },
  "cells": [
    {
      "cell_type": "markdown",
      "metadata": {
        "id": "view-in-github",
        "colab_type": "text"
      },
      "source": [
        "<a href=\"https://colab.research.google.com/github/sivajatla/python_practice/blob/master/rankpredict.ipynb\" target=\"_parent\"><img src=\"https://colab.research.google.com/assets/colab-badge.svg\" alt=\"Open In Colab\"/></a>"
      ]
    },
    {
      "cell_type": "code",
      "metadata": {
        "id": "GoNfT_HV5NCC",
        "colab_type": "code",
        "colab": {}
      },
      "source": [
        "import pandas as pd\n",
        "import pickle\n",
        "from google.colab import drive\n",
        "from pathlib import Path\n",
        "drive.mount('/content/drive')\n",
        "%cd /content/drive/My\\ Drive\n",
        "p = Path('marksdata.csv')\n",
        "#testData=Path('test_data.csv')\n",
        "%cd /content/drive/My\\ Drive\n",
        "df = pd.read_csv(p,sep=',')\n",
        "#X_test2 = pd.read_csv(testData,sep=',')\n",
        "df.head()\n",
        "X=df[['m','p','c']]\n",
        "#print(X)\n",
        "Y=df['r']\n",
        "from sklearn.model_selection import train_test_split\n",
        "X_train, X_test, y_train, y_test = train_test_split(X,Y,test_size=0.2,random_state=0)\n",
        "print(\"------------X-TRAIN DATA---------------\")\n",
        "print(X_train)\n",
        "print(\"------------X-TEST DATA--------------\")\n",
        "print(X_test)\n",
        "print(\"------------Y-TRAIN DATA---------------\")\n",
        "print(y_train)\n",
        "print(\"------------Y-TEST DATA---------------\")\n",
        "print(y_test)\n",
        "from sklearn.linear_model import LinearRegression\n",
        "clf = LinearRegression()\n",
        "clf.fit(X_train, y_train)\n",
        "print(\"------------Y-PREDICT VALUE---------------\")\n",
        "y_pred=clf.predict(X_test)\n",
        "#print(y_pred)\n",
        "print(\"------------ACCURACY VALUE---------------\")\n",
        "clf.score(X_test, y_test)\n",
        "dfComp = pd.DataFrame({\"Actual\": y_test, \"Predicted\": y_pred})\n",
        "print(dfComp)\n",
        "# save the model to disk\n",
        "#filename = 'finalized_model.sav'\n",
        "#pickle.dump(clf, open(filename, 'wb'))\n",
        "# load the model from disk\n",
        "#loaded_model = pickle.load(open(filename, 'rb'))\n",
        "#result = loaded_model.score(X_test, y_test)\n",
        "#print(result)\n",
        "#print(loaded_model.predict(X_test2))"
      ],
      "execution_count": 0,
      "outputs": []
    }
  ]
}