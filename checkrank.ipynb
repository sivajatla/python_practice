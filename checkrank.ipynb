loaded_model = pickle.load(open(filename, 'rb'))
result = loaded_model.score(X_test, y_test)
print(result)
print(loaded_model.predict(X_test2))
